{
 "cells": [
  {
   "cell_type": "markdown",
   "id": "ed92269f",
   "metadata": {},
   "source": [
    "### Q 1. In Python, what is the difference between a built-in function and a user-defined function? Provide an example of each."
   ]
  },
  {
   "cell_type": "raw",
   "id": "80e5c2df",
   "metadata": {},
   "source": [
    "1. Built in Fuctions are predefined functions that can be used anytime. For eg len(),type(),print()\n",
    "2. User defined functions are the ones which are defined by the programmer as and when required and then it can be used even at late stages if needed. Eg def calculation():"
   ]
  },
  {
   "cell_type": "markdown",
   "id": "3f16bb71",
   "metadata": {},
   "source": [
    "### Q 2. How can you pass arguments to a function in Python? Explain the difference between positional arguments and keyword arguments."
   ]
  },
  {
   "cell_type": "raw",
   "id": "bc6329ed",
   "metadata": {},
   "source": [
    " Arguments can be passed after the function name in paranthesis. For eg def calculation(n).\n",
    "\n",
    "Difference Between Positional Arguments and keyword arguments:\n",
    "Positional Arguments are arguments that need to be mentioned in a specified Manner. For eg def name(firstname,lastname)--When giving the values we need to ensure that firstname is always given first and then the last name.\n",
    "\n",
    "Keyword Arguments:\n",
    "\n",
    "Keyword Argument is an argument passed to a function or method preceded by a keyword and eual signs\n",
    "\n",
    "For eg:\n",
    "def calculations(n=2):"
   ]
  },
  {
   "cell_type": "markdown",
   "id": "12877f1d",
   "metadata": {},
   "source": [
    "### Q 3 What is the purpose of the return statement in a function? \n",
    "Ans : The purpose of the return function is that the function can be called outside of the function that is being defined."
   ]
  },
  {
   "cell_type": "code",
   "execution_count": 1,
   "id": "4ceb8101",
   "metadata": {},
   "outputs": [
    {
     "name": "stdout",
     "output_type": "stream",
     "text": [
      "odd\n"
     ]
    }
   ],
   "source": [
    "### Can a function have multiple return statements? Explain with an example.\n",
    "\n",
    "## Yes, a function can have multiple return values. For eg\n",
    "\n",
    "def type_of_int(i):\n",
    "    if i % 2 == 0:\n",
    "        return 'even'\n",
    "    else:\n",
    "        return 'odd'\n",
    " \n",
    "result = type_of_int(9)\n",
    " \n",
    "print(result)"
   ]
  },
  {
   "cell_type": "markdown",
   "id": "447ca83c",
   "metadata": {},
   "source": [
    "### What are lambda functions in Python? How are they different from regular functions? Provide an example where a lambda function can be useful."
   ]
  },
  {
   "cell_type": "markdown",
   "id": "6b98e99f",
   "metadata": {},
   "source": [
    "## What are lambda functions in Python:\n",
    "#### Lambda functions are defined without a name and we don't use def while defining the lambda functions.\n",
    "\n",
    "### How are they different from regular functions?\n",
    "\n",
    "#### In normal functions we need to use the return functions without which we will not be able to call any output. Whereas in Lambda we need not use the return function still the output will come\n",
    "\n",
    "### Provide an example where a lambda function can be useful.\n",
    "\n",
    "#### Lambda functions have multiple uses. One of the uses can be if we need to add the numbers\n",
    "\n",
    "add=lambda x, y: x + y\n",
    "print (add (1, 2))\n"
   ]
  },
  {
   "cell_type": "markdown",
   "id": "94a95b1a",
   "metadata": {},
   "source": [
    "### How does the concept of \"scope\" apply to functions in Python? Explain the difference between local scope and global scope.\n",
    "\n",
    "#### Concept of scope refers to the visibility and accessibility of variables,functions.It determines where and how a particular name can be referenced.\n",
    "\n",
    "#### Difference between Local Scope and Global scope\n",
    "\n",
    "#### Local Scope: Variables which are defined within a specific function, block of code have a local scope. The local scope is only accessible within the part of the program where they are defined.\n",
    "\n",
    "#### Global Scope: Variables defined in the global scope are accessible from anywhere within the program."
   ]
  },
  {
   "cell_type": "markdown",
   "id": "5782f37b",
   "metadata": {},
   "source": [
    "### Q How can you use the \"return\" statement in a Python function to return multiple values?\n",
    "\n",
    "#### The multiple values can be returned by using a dictionary,list.\n",
    "\n",
    "#### We can seperate the values with commas after the return statement"
   ]
  },
  {
   "cell_type": "code",
   "execution_count": 4,
   "id": "fa859874",
   "metadata": {},
   "outputs": [
    {
     "name": "stdout",
     "output_type": "stream",
     "text": [
      "(10, 'Hello', [1, 2, 3])\n",
      "==================================\n",
      "[10, 'Hello', [1, 2, 3]]\n",
      "-------------------------------\n",
      "{'value1': 10, 'value2': 'Hello', 'value3': [1, 2, 3]}\n"
     ]
    }
   ],
   "source": [
    "## EXAMPLES TO RETURN MULTIPL,E VALUES USING RETURN STATEMENT\n",
    "\n",
    "## 1. Using comma to seperate the values which returns the value in tuple\n",
    "\n",
    "def get_values():\n",
    "    value1 = 10\n",
    "    value2 = \"Hello\"\n",
    "    value3 = [1, 2, 3]\n",
    "    return value1, value2, value3\n",
    "\n",
    "result = get_values()\n",
    "print(result)  \n",
    "\n",
    "print('==================================')\n",
    "\n",
    "## 2. List\n",
    "\n",
    "def get_values():\n",
    "    value1 = 10\n",
    "    value2 = \"Hello\"\n",
    "    value3 = [1, 2, 3]\n",
    "    return [value1, value2, value3]\n",
    "\n",
    "result = get_values()\n",
    "print(result)\n",
    "\n",
    "print('-------------------------------')\n",
    "\n",
    "## 3. Dictionary\n",
    "\n",
    "def get_values():\n",
    "    value1 = 10\n",
    "    value2 = \"Hello\"\n",
    "    value3 = [1, 2, 3]\n",
    "    return {\"value1\": value1, \"value2\": value2, \"value3\": value3}\n",
    "\n",
    "result = get_values()\n",
    "print(result)"
   ]
  },
  {
   "cell_type": "markdown",
   "id": "519f34cc",
   "metadata": {},
   "source": [
    "### What is the difference between the \"pass by value\" and \"pass by reference\" concepts when it comes to function arguments in Python?"
   ]
  },
  {
   "cell_type": "code",
   "execution_count": 6,
   "id": "ce036df7",
   "metadata": {},
   "outputs": [
    {
     "name": "stdout",
     "output_type": "stream",
     "text": [
      "5\n"
     ]
    }
   ],
   "source": [
    "## PASS BY VALUE\n",
    "\n",
    "## When we pass immutable objects like numbers,strings or tuples they are passed by value.It means that the function receives a copy\n",
    "## of the value and any modfifications made within the function will not impact the actual value.\n",
    "\n",
    "def update_number(num):\n",
    "    num += 10\n",
    "\n",
    "number = 5\n",
    "update_number(number)\n",
    "print(number)\n"
   ]
  },
  {
   "cell_type": "code",
   "execution_count": 7,
   "id": "ec2b0665",
   "metadata": {},
   "outputs": [
    {
     "name": "stdout",
     "output_type": "stream",
     "text": [
      "[1, 2, 3, 4]\n"
     ]
    }
   ],
   "source": [
    "## PASS BY REFEREMCE:\n",
    "\n",
    "\"\"\"When we pass mutable objects like lists or dictionaries, they are passed by reference. \n",
    "It means that the function receives a reference to the original object, and any modifications made to the object \n",
    "within the function will affect the original object outside the function.\"\"\"\n",
    "\n",
    "def update_list(my_list):\n",
    "    my_list.append(4)\n",
    "\n",
    "my_list = [1, 2, 3]\n",
    "update_list(my_list)\n",
    "print(my_list)"
   ]
  },
  {
   "cell_type": "markdown",
   "id": "07e328f3",
   "metadata": {},
   "source": [
    "### Create a function that can intake integer or decimal value and do following operations:\n",
    "\n",
    "a. Logarithmic function (log x)\n",
    "b. Exponential function (exp(x))\n",
    "c. Power function with base 2 (2\n",
    "x\n",
    ")\n",
    "d. Square root"
   ]
  },
  {
   "cell_type": "code",
   "execution_count": 10,
   "id": "f28a161b",
   "metadata": {},
   "outputs": [
    {
     "name": "stdout",
     "output_type": "stream",
     "text": [
      "(2.321928094887362, 148.4131591025766, 32.0, 2.23606797749979)\n"
     ]
    }
   ],
   "source": [
    "import math\n",
    "\n",
    "def math_operations(value):\n",
    "    logarithm = math.log2(value)\n",
    "    exponential = math.exp(value)\n",
    "    power = math.pow(2, value)\n",
    "    square_root = math.sqrt(value)\n",
    "\n",
    "    return logarithm, exponential, power, square_root\n",
    "\n",
    "results=math_operations(5)\n",
    "print(results)\n",
    "    "
   ]
  },
  {
   "cell_type": "markdown",
   "id": "4032bb8d",
   "metadata": {},
   "source": [
    "### Create a function that takes a full name as an argument and returns first name and last name."
   ]
  },
  {
   "cell_type": "code",
   "execution_count": 11,
   "id": "2543eeb9",
   "metadata": {},
   "outputs": [
    {
     "name": "stdout",
     "output_type": "stream",
     "text": [
      "First Name Mike\n",
      "Last Name Tyson\n"
     ]
    }
   ],
   "source": [
    "def get_first_last_name(full_name):\n",
    "    names = full_name.split()\n",
    "    first_name = names[0]\n",
    "    last_name = names[-1]\n",
    "    return first_name, last_name\n",
    "\n",
    "full_name=\"Mike Tyson\"\n",
    "first_name,last_name=get_first_last_name(full_name)\n",
    "print(\"First Name\",first_name)\n",
    "print(\"Last Name\",last_name)\n"
   ]
  }
 ],
 "metadata": {
  "kernelspec": {
   "display_name": "Python 3 (ipykernel)",
   "language": "python",
   "name": "python3"
  },
  "language_info": {
   "codemirror_mode": {
    "name": "ipython",
    "version": 3
   },
   "file_extension": ".py",
   "mimetype": "text/x-python",
   "name": "python",
   "nbconvert_exporter": "python",
   "pygments_lexer": "ipython3",
   "version": "3.9.12"
  }
 },
 "nbformat": 4,
 "nbformat_minor": 5
}
